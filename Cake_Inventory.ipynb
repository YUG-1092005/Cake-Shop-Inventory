{
 "cells": [
  {
   "cell_type": "code",
   "execution_count": 150,
   "id": "43eee106-24eb-46a1-8b41-02f534d8bb75",
   "metadata": {},
   "outputs": [
    {
     "name": "stdout",
     "output_type": "stream",
     "text": [
      "----------------Our Menu------------------------\n",
      "1001 : Black Chocolate | 200gm | 200 Rs. | Cake | 4 qn\n",
      "1002 : Vanilla | 50gm | 100 Rs. | Pastry | 10 qn\n",
      "1003 : Strawberry | 200gm | 250 Rs. | Cake | 3 qn\n",
      "1004 : White Chocolate | 300gm | 300 Rs. | Cake | 5 qn\n",
      "\n",
      "Press. 1 ---------> To see your cart details.\n",
      "Press. 2 ---------> To confirm your order and have bill.\n",
      "Press. 3 ---------> To exit.\n",
      "------------------------------------------------\n"
     ]
    },
    {
     "name": "stdin",
     "output_type": "stream",
     "text": [
      "\n",
      "Enter Id to order cake:  1001\n",
      "Enter quantity:  1\n"
     ]
    },
    {
     "name": "stdout",
     "output_type": "stream",
     "text": [
      "Your Black Chocolate Cake is being added to cart.\n"
     ]
    },
    {
     "name": "stdin",
     "output_type": "stream",
     "text": [
      "\n",
      "Enter Id to order cake:  2\n"
     ]
    },
    {
     "name": "stdout",
     "output_type": "stream",
     "text": [
      "\n",
      "-------------------Bill----------------------\n",
      "* Black Chocolate Cake | 300gm | 200 Rs. x 1\n",
      "---------------------------------------------\n",
      "Amount to pay: 236.0 Rs +18% GST Added\n",
      "---------------------------------------------\n"
     ]
    },
    {
     "name": "stdin",
     "output_type": "stream",
     "text": [
      "\n",
      "Enter Id to order cake:  1001\n",
      "Enter quantity:  1\n"
     ]
    },
    {
     "name": "stdout",
     "output_type": "stream",
     "text": [
      "Your Black Chocolate Cake is being added to cart.\n"
     ]
    },
    {
     "name": "stdin",
     "output_type": "stream",
     "text": [
      "\n",
      "Enter Id to order cake:  1004\n",
      "Enter quantity:  3\n"
     ]
    },
    {
     "name": "stdout",
     "output_type": "stream",
     "text": [
      "Your White Chocolate Cake is being added to cart.\n"
     ]
    },
    {
     "name": "stdin",
     "output_type": "stream",
     "text": [
      "\n",
      "Enter Id to order cake:  2\n"
     ]
    },
    {
     "name": "stdout",
     "output_type": "stream",
     "text": [
      "\n",
      "-------------------Bill----------------------\n",
      "* Black Chocolate Cake | 300gm | 200 Rs. x 1\n",
      "* White Chocolate Cake | 300gm | 300 Rs. x 3\n",
      "---------------------------------------------\n",
      "Amount to pay: 1038.4 Rs +18% GST Added\n",
      "Discount: 259.6 Rs\n",
      "Total   :1298.0 Rs.\n",
      "---------------------------------------------\n"
     ]
    },
    {
     "name": "stdin",
     "output_type": "stream",
     "text": [
      "\n",
      "Enter Id to order cake:  3\n"
     ]
    },
    {
     "name": "stdout",
     "output_type": "stream",
     "text": [
      "Good Bye.Welcome again to our shop.\n"
     ]
    }
   ],
   "source": [
    "# Run this dictionary initially to have data in local file than comment it out\n",
    "# cake_shop = {\n",
    "#     1001: {\"flavour\":\"Black Chocolate\", \"weight\":\"200gm\", \"price\":200, \"type\":\"Cake\", \"quantity\":4},\n",
    "#     1002: {\"flavour\":\"Vanilla\", \"weight\":\"50gm\", \"price\":100, \"type\":\"Pastry\", \"quantity\":10},\n",
    "#     1003: {\"flavour\":\"Strawberry\", \"weight\":\"200gm\", \"price\":250, \"type\":\"Cake\", \"quantity\":3},\n",
    "#     1004: {\"flavour\":\"White Chocolate\", \"weight\":\"300gm\", \"price\":300, \"type\":\"Cake\", \"quantity\":5},\n",
    "# }\n",
    "\n",
    "import json\n",
    "\n",
    "#Storing our inventory to the file\n",
    "f = open(\"Cake_Inventory.json\",\"w\")\n",
    "js = json.dumps(cake_shop)\n",
    "f.write(js)\n",
    "f.close()\n",
    "\n",
    "#Loading data from file\n",
    "fd = open(\"Cake_Inventory.json\",\"r\")\n",
    "j = fd.read()\n",
    "cake_shop = json.loads(j)\n",
    "fd.close()\n",
    "    \n",
    "#Showing menu to customers\n",
    "print(\"----------------Our Menu------------------------\")\n",
    "for i in cake_shop:\n",
    "    print(i, \":\", cake_shop[i][\"flavour\"] ,\"|\", cake_shop[i][\"weight\"],\"|\",  cake_shop[i][\"price\"],\"Rs.\",\"|\",  cake_shop[i][\"type\"],\"|\", cake_shop[i][\"quantity\"],\"qn\")\n",
    "print(\"\\nPress. 1 ---------> To see your cart details.\")\n",
    "print(\"Press. 2 ---------> To confirm your order and have bill.\")\n",
    "print(\"Press. 3 ---------> To exit.\")\n",
    "print(\"------------------------------------------------\")\n",
    "\n",
    "cart = {}\n",
    "while True:\n",
    "    user_input = input(\"\\nEnter Id to order cake: \")\n",
    "\n",
    "    #Adding orders to cart\n",
    "    if user_input in cake_shop:\n",
    "        user_qn = int(input(\"Enter quantity: \"))\n",
    "        if user_qn > cake_shop[user_input][\"quantity\"]:\n",
    "            print(f\"Sorry, we have {cake_shop[user_input][\"quantity\"]} in our stock.You can try another one.\")\n",
    "        else:\n",
    "            cart.update({user_input: [cake_shop[user_input][\"flavour\"],cake_shop[i][\"weight\"], cake_shop[user_input][\"price\"],cake_shop[user_input][\"type\"], user_qn]})\n",
    "            print(f\"Your {cake_shop[user_input][\"flavour\"]} {cake_shop[user_input][\"type\"]} is being added to cart.\")\n",
    "\n",
    "    #Showing cart to user\n",
    "    elif user_input == \"1\":\n",
    "        if cart == {}:\n",
    "            print(\"You have 0 items in your cart\")\n",
    "        else:\n",
    "            print(\"\\n-------------------Your cart-------------------\")\n",
    "            for i, (item_id, item) in enumerate(cart.items(), start=1):\n",
    "                print(f\"{i}. Flavour: {item[0]}, Weight: {item[1]}, Price: {item[2]} Rs., Type: {item[3]}, Quantity: {item[4]}\")\n",
    "            print(\"-----------------------------------------------\")\n",
    "\n",
    "    #Showing Bill to user\n",
    "    elif user_input == \"2\":\n",
    "        if cart == {}:\n",
    "            print(\"You have not selected any cake yet.\")\n",
    "        else:\n",
    "            summation = 0\n",
    "            discount = 0\n",
    "            print(\"\\n-------------------Bill----------------------\")\n",
    "            for (item_id,item) in cart.items():\n",
    "                gst = (item[2] * item[4]) * 0.18\n",
    "                total = item[2] * item[4]\n",
    "                final = gst + total\n",
    "    \n",
    "                summation+=final           \n",
    "                print(\"*\" , item[0], item[3] ,\"|\", item[1] ,\"|\", item[2],\"Rs.\",\"x\",item[4])\n",
    "                cake_shop[item_id][\"quantity\"] -= item[4]   \n",
    "                \n",
    "                if summation>=500.0:\n",
    "                    discount = summation*0.2\n",
    "                    summation-=discount\n",
    "                       \n",
    "            print(\"---------------------------------------------\")\n",
    "            print(\"Amount to pay:\", summation,\"Rs\", \"+18% GST Added\")\n",
    "            if discount:\n",
    "                print(f\"Discount: {discount} Rs\")\n",
    "                print(f\"Total   :{summation+discount} Rs.\")\n",
    "            print(\"---------------------------------------------\")\n",
    "    \n",
    "            f = open(\"Cake_Inventory.json\",\"w\")\n",
    "            js = json.dumps(cake_shop)\n",
    "            f.write(js)    \n",
    "            f.close()\n",
    "\n",
    "    elif user_input == \"3\":\n",
    "        print(\"Good Bye.Welcome again to our shop.\")\n",
    "        break  \n",
    "    else:\n",
    "        print(f\"This cake {user_input} id not there in our menu.\")\n",
    "\n",
    "        \n"
   ]
  },
  {
   "cell_type": "code",
   "execution_count": null,
   "id": "693a3dfe-13d8-40d5-9dff-4aa04dd424ec",
   "metadata": {},
   "outputs": [],
   "source": []
  },
  {
   "cell_type": "code",
   "execution_count": null,
   "id": "3d79b39a-baf4-4e34-a1c7-3cc20c9cefc0",
   "metadata": {},
   "outputs": [],
   "source": []
  }
 ],
 "metadata": {
  "kernelspec": {
   "display_name": "Python 3 (ipykernel)",
   "language": "python",
   "name": "python3"
  },
  "language_info": {
   "codemirror_mode": {
    "name": "ipython",
    "version": 3
   },
   "file_extension": ".py",
   "mimetype": "text/x-python",
   "name": "python",
   "nbconvert_exporter": "python",
   "pygments_lexer": "ipython3",
   "version": "3.12.7"
  }
 },
 "nbformat": 4,
 "nbformat_minor": 5
}
